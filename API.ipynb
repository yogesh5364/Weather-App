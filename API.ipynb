{
 "cells": [
  {
   "cell_type": "code",
   "execution_count": 29,
   "id": "6889bab0",
   "metadata": {},
   "outputs": [
    {
     "name": "stdout",
     "output_type": "stream",
     "text": [
      "{'Headline': {'EffectiveDate': '2021-10-15T19:00:00+05:30', 'EffectiveEpochDate': 1634304600, 'Severity': 2, 'Text': 'Watch for a strong thunderstorm Friday evening', 'Category': 'thunderstorm', 'EndDate': '2021-10-16T01:00:00+05:30', 'EndEpochDate': 1634326200, 'MobileLink': 'http://www.accuweather.com/en/in/guwahati/186893/daily-weather-forecast/186893?unit=c&lang=en-us', 'Link': 'http://www.accuweather.com/en/in/guwahati/186893/daily-weather-forecast/186893?unit=c&lang=en-us'}, 'DailyForecasts': [{'Date': '2021-10-14T07:00:00+05:30', 'EpochDate': 1634175000, 'Sun': {'Rise': '2021-10-14T05:21:00+05:30', 'EpochRise': 1634169060, 'Set': '2021-10-14T16:57:00+05:30', 'EpochSet': 1634210820}, 'Moon': {'Rise': '2021-10-14T13:20:00+05:30', 'EpochRise': 1634197800, 'Set': '2021-10-15T00:09:00+05:30', 'EpochSet': 1634236740, 'Phase': 'WaxingGibbous', 'Age': 8}, 'Temperature': {'Minimum': {'Value': 25.6, 'Unit': 'C', 'UnitType': 17}, 'Maximum': {'Value': 37.9, 'Unit': 'C', 'UnitType': 17}}, 'RealFeelTemperature': {'Minimum': {'Value': 29.9, 'Unit': 'C', 'UnitType': 17}, 'Maximum': {'Value': 44.1, 'Unit': 'C', 'UnitType': 17}}, 'RealFeelTemperatureShade': {'Minimum': {'Value': 29.9, 'Unit': 'C', 'UnitType': 17}, 'Maximum': {'Value': 42.2, 'Unit': 'C', 'UnitType': 17}}, 'HoursOfSun': 6.9, 'DegreeDaySummary': {'Heating': {'Value': 0.0, 'Unit': 'C', 'UnitType': 17}, 'Cooling': {'Value': 14.0, 'Unit': 'C', 'UnitType': 17}}, 'AirAndPollen': [{'Name': 'AirQuality', 'Value': 0, 'Category': 'Good', 'CategoryValue': 1, 'Type': 'Ozone'}, {'Name': 'Grass', 'Value': 0, 'Category': 'Low', 'CategoryValue': 1}, {'Name': 'Mold', 'Value': 0, 'Category': 'Low', 'CategoryValue': 1}, {'Name': 'Ragweed', 'Value': 0, 'Category': 'Low', 'CategoryValue': 1}, {'Name': 'Tree', 'Value': 0, 'Category': 'Low', 'CategoryValue': 1}, {'Name': 'UVIndex', 'Value': 6, 'Category': 'High', 'CategoryValue': 3}], 'Day': {'Icon': 14, 'IconPhrase': 'Partly sunny w/ showers', 'HasPrecipitation': True, 'PrecipitationType': 'Rain', 'PrecipitationIntensity': 'Light', 'ShortPhrase': 'Very hot and humid', 'LongPhrase': 'Very hot and humid with clouds and sun; a shower in spots this afternoon; caution advised if outside for extended periods of time', 'PrecipitationProbability': 50, 'ThunderstormProbability': 12, 'RainProbability': 50, 'SnowProbability': 0, 'IceProbability': 0, 'Wind': {'Speed': {'Value': 7.4, 'Unit': 'km/h', 'UnitType': 7}, 'Direction': {'Degrees': 46, 'Localized': 'NE', 'English': 'NE'}}, 'WindGust': {'Speed': {'Value': 14.8, 'Unit': 'km/h', 'UnitType': 7}, 'Direction': {'Degrees': 22, 'Localized': 'NNE', 'English': 'NNE'}}, 'TotalLiquid': {'Value': 0.3, 'Unit': 'mm', 'UnitType': 3}, 'Rain': {'Value': 0.3, 'Unit': 'mm', 'UnitType': 3}, 'Snow': {'Value': 0.0, 'Unit': 'cm', 'UnitType': 4}, 'Ice': {'Value': 0.0, 'Unit': 'mm', 'UnitType': 3}, 'HoursOfPrecipitation': 0.5, 'HoursOfRain': 0.5, 'HoursOfSnow': 0.0, 'HoursOfIce': 0.0, 'CloudCover': 50, 'Evapotranspiration': {'Value': 0.2, 'Unit': 'mm', 'UnitType': 3}, 'SolarIrradiance': {'Value': 70.3, 'Unit': 'W/m²', 'UnitType': 33}}, 'Night': {'Icon': 36, 'IconPhrase': 'Intermittent clouds', 'HasPrecipitation': False, 'ShortPhrase': 'Warm and humid with clearing', 'LongPhrase': 'Warm and humid with clearing', 'PrecipitationProbability': 25, 'ThunderstormProbability': 6, 'RainProbability': 25, 'SnowProbability': 0, 'IceProbability': 0, 'Wind': {'Speed': {'Value': 3.7, 'Unit': 'km/h', 'UnitType': 7}, 'Direction': {'Degrees': 163, 'Localized': 'SSE', 'English': 'SSE'}}, 'WindGust': {'Speed': {'Value': 7.4, 'Unit': 'km/h', 'UnitType': 7}, 'Direction': {'Degrees': 92, 'Localized': 'E', 'English': 'E'}}, 'TotalLiquid': {'Value': 0.0, 'Unit': 'mm', 'UnitType': 3}, 'Rain': {'Value': 0.0, 'Unit': 'mm', 'UnitType': 3}, 'Snow': {'Value': 0.0, 'Unit': 'cm', 'UnitType': 4}, 'Ice': {'Value': 0.0, 'Unit': 'mm', 'UnitType': 3}, 'HoursOfPrecipitation': 0.0, 'HoursOfRain': 0.0, 'HoursOfSnow': 0.0, 'HoursOfIce': 0.0, 'CloudCover': 47, 'Evapotranspiration': {'Value': 0.0, 'Unit': 'mm', 'UnitType': 3}, 'SolarIrradiance': {'Value': 0.0, 'Unit': 'W/m²', 'UnitType': 33}}, 'Sources': ['AccuWeather'], 'MobileLink': 'http://www.accuweather.com/en/in/guwahati/186893/daily-weather-forecast/186893?day=1&unit=c&lang=en-us', 'Link': 'http://www.accuweather.com/en/in/guwahati/186893/daily-weather-forecast/186893?day=1&unit=c&lang=en-us'}]}\n"
     ]
    }
   ],
   "source": [
    "import requests\n",
    "key=\"Mmr8VF9HZErNLHxjugyJJBEGIxi9R8kD\"\n",
    "#city = input(\"Enter the city name --> \")\n",
    "loc_url = f\"http://dataservice.accuweather.com/locations/v1/cities/search?apikey={key}&q={city}\"\n",
    "data = requests.get(loc_url)\n",
    "if data.status_code == 200:\n",
    "    data = data.json()\n",
    "    loc_key = data[0]['Key']\n",
    "    final_url = f\"http://dataservice.accuweather.com/forecasts/v1/daily/1day/{loc_key}?apikey={key}&details=true&metric=true\"\n",
    "    d = requests.get(final_url)\n",
    "    if d.status_code == 200:\n",
    "        d = d.json()\n",
    "        print(d)\n",
    "else:\n",
    "    print(\"No Records Found!!\")\n"
   ]
  },
  {
   "cell_type": "code",
   "execution_count": null,
   "id": "1549c27e",
   "metadata": {},
   "outputs": [],
   "source": []
  }
 ],
 "metadata": {
  "kernelspec": {
   "display_name": "Python 3",
   "language": "python",
   "name": "python3"
  },
  "language_info": {
   "codemirror_mode": {
    "name": "ipython",
    "version": 3
   },
   "file_extension": ".py",
   "mimetype": "text/x-python",
   "name": "python",
   "nbconvert_exporter": "python",
   "pygments_lexer": "ipython3",
   "version": "3.8.11"
  }
 },
 "nbformat": 4,
 "nbformat_minor": 5
}
